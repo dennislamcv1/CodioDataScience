{
 "cells": [
  {
   "cell_type": "markdown",
   "id": "0345dfed",
   "metadata": {},
   "source": [
    "Which of the following p-values show that the data presented is independent of each other? In other words, the data does not shows significant association."
   ]
  },
  {
   "cell_type": "markdown",
   "id": "0bf153dd",
   "metadata": {},
   "source": [
    "0.09"
   ]
  },
  {
   "cell_type": "code",
   "execution_count": 1,
   "id": "b6d3c7fe",
   "metadata": {},
   "outputs": [],
   "source": [
    "import matplotlib\n",
    "import statistics as sta\n",
    "import pandas as pd"
   ]
  },
  {
   "cell_type": "code",
   "execution_count": 2,
   "id": "ce739d88",
   "metadata": {},
   "outputs": [],
   "source": [
    "df = pd.DataFrame({'person': ['kevin', 'david', 'Arron','???'],\n",
    "                   'Bank code': ['abc', 'bar', 'xyz','???'],\n",
    "                   'Money in bank' : ['///',1234123,52342,34234] })"
   ]
  },
  {
   "cell_type": "code",
   "execution_count": 3,
   "id": "05bbec72",
   "metadata": {},
   "outputs": [
    {
     "data": {
      "text/html": [
       "<div>\n",
       "<style scoped>\n",
       "    .dataframe tbody tr th:only-of-type {\n",
       "        vertical-align: middle;\n",
       "    }\n",
       "\n",
       "    .dataframe tbody tr th {\n",
       "        vertical-align: top;\n",
       "    }\n",
       "\n",
       "    .dataframe thead th {\n",
       "        text-align: right;\n",
       "    }\n",
       "</style>\n",
       "<table border=\"1\" class=\"dataframe\">\n",
       "  <thead>\n",
       "    <tr style=\"text-align: right;\">\n",
       "      <th></th>\n",
       "      <th>person</th>\n",
       "      <th>Bank code</th>\n",
       "      <th>Money in bank</th>\n",
       "    </tr>\n",
       "  </thead>\n",
       "  <tbody>\n",
       "    <tr>\n",
       "      <th>0</th>\n",
       "      <td>kevin</td>\n",
       "      <td>abc</td>\n",
       "      <td>///</td>\n",
       "    </tr>\n",
       "    <tr>\n",
       "      <th>1</th>\n",
       "      <td>david</td>\n",
       "      <td>bar</td>\n",
       "      <td>1234123</td>\n",
       "    </tr>\n",
       "    <tr>\n",
       "      <th>2</th>\n",
       "      <td>Arron</td>\n",
       "      <td>xyz</td>\n",
       "      <td>52342</td>\n",
       "    </tr>\n",
       "    <tr>\n",
       "      <th>3</th>\n",
       "      <td>???</td>\n",
       "      <td>???</td>\n",
       "      <td>34234</td>\n",
       "    </tr>\n",
       "  </tbody>\n",
       "</table>\n",
       "</div>"
      ],
      "text/plain": [
       "  person Bank code Money in bank\n",
       "0  kevin       abc           ///\n",
       "1  david       bar       1234123\n",
       "2  Arron       xyz         52342\n",
       "3    ???       ???         34234"
      ]
     },
     "execution_count": 3,
     "metadata": {},
     "output_type": "execute_result"
    }
   ],
   "source": [
    "df"
   ]
  },
  {
   "cell_type": "code",
   "execution_count": 4,
   "id": "201d914b",
   "metadata": {},
   "outputs": [],
   "source": [
    "#df[\"person\"].replace(to_replace=\"???\", value=\"None\", inplace=True)"
   ]
  },
  {
   "cell_type": "code",
   "execution_count": 5,
   "id": "74b3ba51",
   "metadata": {},
   "outputs": [],
   "source": [
    "#df[\"Bank code\"].replace(to_replace=\"???\", value=\"None\", inplace=True)"
   ]
  },
  {
   "cell_type": "code",
   "execution_count": 6,
   "id": "6906fa36",
   "metadata": {},
   "outputs": [],
   "source": [
    "#df[\"Money in bank\"].replace(to_replace=\"///\", value=\"NaN\", inplace=True)"
   ]
  },
  {
   "cell_type": "code",
   "execution_count": 7,
   "id": "b8005a7a",
   "metadata": {},
   "outputs": [],
   "source": [
    "df.replace({'???' : None},inplace=True)\n",
    "df.replace({'///' : None},inplace=True)"
   ]
  },
  {
   "cell_type": "code",
   "execution_count": 8,
   "id": "78539f9e",
   "metadata": {},
   "outputs": [
    {
     "data": {
      "text/html": [
       "<div>\n",
       "<style scoped>\n",
       "    .dataframe tbody tr th:only-of-type {\n",
       "        vertical-align: middle;\n",
       "    }\n",
       "\n",
       "    .dataframe tbody tr th {\n",
       "        vertical-align: top;\n",
       "    }\n",
       "\n",
       "    .dataframe thead th {\n",
       "        text-align: right;\n",
       "    }\n",
       "</style>\n",
       "<table border=\"1\" class=\"dataframe\">\n",
       "  <thead>\n",
       "    <tr style=\"text-align: right;\">\n",
       "      <th></th>\n",
       "      <th>person</th>\n",
       "      <th>Bank code</th>\n",
       "      <th>Money in bank</th>\n",
       "    </tr>\n",
       "  </thead>\n",
       "  <tbody>\n",
       "    <tr>\n",
       "      <th>0</th>\n",
       "      <td>kevin</td>\n",
       "      <td>abc</td>\n",
       "      <td>NaN</td>\n",
       "    </tr>\n",
       "    <tr>\n",
       "      <th>1</th>\n",
       "      <td>david</td>\n",
       "      <td>bar</td>\n",
       "      <td>1234123.0</td>\n",
       "    </tr>\n",
       "    <tr>\n",
       "      <th>2</th>\n",
       "      <td>Arron</td>\n",
       "      <td>xyz</td>\n",
       "      <td>52342.0</td>\n",
       "    </tr>\n",
       "    <tr>\n",
       "      <th>3</th>\n",
       "      <td>None</td>\n",
       "      <td>None</td>\n",
       "      <td>34234.0</td>\n",
       "    </tr>\n",
       "  </tbody>\n",
       "</table>\n",
       "</div>"
      ],
      "text/plain": [
       "  person Bank code  Money in bank\n",
       "0  kevin       abc            NaN\n",
       "1  david       bar      1234123.0\n",
       "2  Arron       xyz        52342.0\n",
       "3   None      None        34234.0"
      ]
     },
     "execution_count": 8,
     "metadata": {},
     "output_type": "execute_result"
    }
   ],
   "source": [
    "df"
   ]
  },
  {
   "cell_type": "code",
   "execution_count": 9,
   "id": "6c67c71f",
   "metadata": {},
   "outputs": [],
   "source": [
    "df2= pd.DataFrame({'person': ['kevin', 'david', 'Arron','Christian'],\n",
    "                   'Gym Member': [True, False, False, True]\n",
    "                    })"
   ]
  },
  {
   "cell_type": "code",
   "execution_count": 10,
   "id": "1afd4421",
   "metadata": {},
   "outputs": [
    {
     "data": {
      "text/html": [
       "<div>\n",
       "<style scoped>\n",
       "    .dataframe tbody tr th:only-of-type {\n",
       "        vertical-align: middle;\n",
       "    }\n",
       "\n",
       "    .dataframe tbody tr th {\n",
       "        vertical-align: top;\n",
       "    }\n",
       "\n",
       "    .dataframe thead th {\n",
       "        text-align: right;\n",
       "    }\n",
       "</style>\n",
       "<table border=\"1\" class=\"dataframe\">\n",
       "  <thead>\n",
       "    <tr style=\"text-align: right;\">\n",
       "      <th></th>\n",
       "      <th>person</th>\n",
       "      <th>Gym Member</th>\n",
       "    </tr>\n",
       "  </thead>\n",
       "  <tbody>\n",
       "    <tr>\n",
       "      <th>0</th>\n",
       "      <td>kevin</td>\n",
       "      <td>True</td>\n",
       "    </tr>\n",
       "    <tr>\n",
       "      <th>1</th>\n",
       "      <td>david</td>\n",
       "      <td>False</td>\n",
       "    </tr>\n",
       "    <tr>\n",
       "      <th>2</th>\n",
       "      <td>Arron</td>\n",
       "      <td>False</td>\n",
       "    </tr>\n",
       "    <tr>\n",
       "      <th>3</th>\n",
       "      <td>Christian</td>\n",
       "      <td>True</td>\n",
       "    </tr>\n",
       "  </tbody>\n",
       "</table>\n",
       "</div>"
      ],
      "text/plain": [
       "      person  Gym Member\n",
       "0      kevin        True\n",
       "1      david       False\n",
       "2      Arron       False\n",
       "3  Christian        True"
      ]
     },
     "execution_count": 10,
     "metadata": {},
     "output_type": "execute_result"
    }
   ],
   "source": [
    "df2"
   ]
  },
  {
   "cell_type": "code",
   "execution_count": 11,
   "id": "266ca5ab",
   "metadata": {},
   "outputs": [
    {
     "name": "stdout",
     "output_type": "stream",
     "text": [
      "      person Bank code  Money in bank  Gym Member\n",
      "0      kevin       abc            NaN        True\n",
      "1      david       bar      1234123.0       False\n",
      "2      Arron       xyz        52342.0       False\n",
      "3  Christian       NaN            NaN        True\n"
     ]
    }
   ],
   "source": [
    "df3=pd.merge(df,df2,on='person',how='right')\n",
    "print(df3)"
   ]
  },
  {
   "cell_type": "code",
   "execution_count": null,
   "id": "53dc96a5",
   "metadata": {},
   "outputs": [],
   "source": []
  }
 ],
 "metadata": {
  "kernelspec": {
   "display_name": "Python 3 (ipykernel)",
   "language": "python",
   "name": "python3"
  },
  "language_info": {
   "codemirror_mode": {
    "name": "ipython",
    "version": 3
   },
   "file_extension": ".py",
   "mimetype": "text/x-python",
   "name": "python",
   "nbconvert_exporter": "python",
   "pygments_lexer": "ipython3",
   "version": "3.9.12"
  }
 },
 "nbformat": 4,
 "nbformat_minor": 5
}
