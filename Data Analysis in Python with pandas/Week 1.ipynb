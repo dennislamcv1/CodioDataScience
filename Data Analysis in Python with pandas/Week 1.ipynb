{
 "cells": [
  {
   "cell_type": "markdown",
   "id": "4e1ad10e",
   "metadata": {},
   "source": [
    "Create 3 variables named x, y and z. In x store a value of 20, in y store a value of 50, and in z store a value of 40."
   ]
  },
  {
   "cell_type": "code",
   "execution_count": 2,
   "id": "a1accf4f",
   "metadata": {},
   "outputs": [],
   "source": [
    "x = 20\n",
    "y = 50\n",
    "z = 40\n"
   ]
  },
  {
   "cell_type": "markdown",
   "id": "3d4acc57",
   "metadata": {},
   "source": [
    "Create a list named data, and insert the 3 variables x, y , and z in the list in that order.\n",
    "\n",
    "Print the mean of the list.\n"
   ]
  },
  {
   "cell_type": "code",
   "execution_count": 3,
   "id": "cbe8f744",
   "metadata": {},
   "outputs": [
    {
     "name": "stdout",
     "output_type": "stream",
     "text": [
      "36.666666666666664\n"
     ]
    }
   ],
   "source": [
    "import statistics\n",
    "\n",
    "data=[x,y,z]\n",
    "\n",
    "print(statistics.mean(data))"
   ]
  },
  {
   "cell_type": "markdown",
   "id": "332a6aba",
   "metadata": {},
   "source": [
    "In statistics, the range is the difference between the lowest and highest values. Use the tools from this lesson to find the range of the data. To clarify, you are expected to use the functions we covered to find the lowest and highest values."
   ]
  },
  {
   "cell_type": "code",
   "execution_count": 4,
   "id": "7d3942cd",
   "metadata": {},
   "outputs": [],
   "source": [
    "max_data = max(data)"
   ]
  },
  {
   "cell_type": "code",
   "execution_count": 5,
   "id": "c2b09de1",
   "metadata": {},
   "outputs": [],
   "source": [
    "min_data = min(data)"
   ]
  },
  {
   "cell_type": "code",
   "execution_count": 6,
   "id": "53937b25",
   "metadata": {},
   "outputs": [],
   "source": [
    "range_data = max_data - min_data"
   ]
  },
  {
   "cell_type": "code",
   "execution_count": 7,
   "id": "c83a8138",
   "metadata": {},
   "outputs": [
    {
     "data": {
      "text/plain": [
       "30"
      ]
     },
     "execution_count": 7,
     "metadata": {},
     "output_type": "execute_result"
    }
   ],
   "source": [
    "range_data"
   ]
  },
  {
   "cell_type": "code",
   "execution_count": null,
   "id": "ea0f55b0",
   "metadata": {},
   "outputs": [],
   "source": []
  }
 ],
 "metadata": {
  "kernelspec": {
   "display_name": "Python 3 (ipykernel)",
   "language": "python",
   "name": "python3"
  },
  "language_info": {
   "codemirror_mode": {
    "name": "ipython",
    "version": 3
   },
   "file_extension": ".py",
   "mimetype": "text/x-python",
   "name": "python",
   "nbconvert_exporter": "python",
   "pygments_lexer": "ipython3",
   "version": "3.9.12"
  }
 },
 "nbformat": 4,
 "nbformat_minor": 5
}
