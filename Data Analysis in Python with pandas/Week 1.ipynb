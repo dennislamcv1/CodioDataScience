{
 "cells": [
  {
   "cell_type": "code",
   "execution_count": 1,
   "id": "a1accf4f",
   "metadata": {},
   "outputs": [],
   "source": [
    "x = 20\n",
    "y = 50\n",
    "z = 40\n"
   ]
  },
  {
   "cell_type": "code",
   "execution_count": 2,
   "id": "cbe8f744",
   "metadata": {},
   "outputs": [
    {
     "name": "stdout",
     "output_type": "stream",
     "text": [
      "36.666666666666664\n"
     ]
    }
   ],
   "source": [
    "import statistics\n",
    "\n",
    "data=[x,y,z]\n",
    "print(statistics.mean(data))"
   ]
  },
  {
   "cell_type": "code",
   "execution_count": 3,
   "id": "7d3942cd",
   "metadata": {},
   "outputs": [],
   "source": [
    "max_data = max(data)"
   ]
  },
  {
   "cell_type": "code",
   "execution_count": 4,
   "id": "c2b09de1",
   "metadata": {},
   "outputs": [],
   "source": [
    "min_data = min(data)"
   ]
  },
  {
   "cell_type": "code",
   "execution_count": 5,
   "id": "53937b25",
   "metadata": {},
   "outputs": [],
   "source": [
    "range_data = max_data - min_data"
   ]
  },
  {
   "cell_type": "code",
   "execution_count": null,
   "id": "c83a8138",
   "metadata": {},
   "outputs": [],
   "source": []
  }
 ],
 "metadata": {
  "kernelspec": {
   "display_name": "Python 3 (ipykernel)",
   "language": "python",
   "name": "python3"
  },
  "language_info": {
   "codemirror_mode": {
    "name": "ipython",
    "version": 3
   },
   "file_extension": ".py",
   "mimetype": "text/x-python",
   "name": "python",
   "nbconvert_exporter": "python",
   "pygments_lexer": "ipython3",
   "version": "3.8.8"
  }
 },
 "nbformat": 4,
 "nbformat_minor": 5
}
