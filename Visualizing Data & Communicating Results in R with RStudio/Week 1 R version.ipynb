{
 "cells": [
  {
   "cell_type": "markdown",
   "id": "f0e1988b",
   "metadata": {},
   "source": [
    "Exercise 1\n",
    "\n",
    "Create a Column Chart that looks like this:"
   ]
  },
  {
   "cell_type": "code",
   "execution_count": 1,
   "id": "4280a953",
   "metadata": {},
   "outputs": [
    {
     "data": {
      "image/png": "[encoded data removed]",
      "text/plain": [
       "plot without title"
      ]
     },
     "metadata": {},
     "output_type": "display_data"
    }
   ],
   "source": [
    "# write your code below in RStudio\n",
    "# then press the Source button to run it\n",
    "\n",
    "suppressPackageStartupMessages(library(tidyverse))\n",
    "library(tidyverse)\n",
    "theme_update(plot.title = element_text(hjust = 0.5))\n",
    "\n",
    "# add your code below this line\n",
    "\n",
    "game <- c(\"Game 1\", \"Game 2\", \"Game 3\", \"Game 4\")\n",
    "score <- c(5, 10, 20, 15)\n",
    "df <- data.frame(game, score)\n",
    "\n",
    "chart <- ggplot(df, aes(x = df$game, y = df$score)) +\n",
    "  geom_bar(stat = \"identity\") +\n",
    "  labs(title = \"Points Scored for Games 1-4\", \n",
    "       x = \"Game\", \n",
    "       y = \"Score\")\n",
    "\n",
    "# add your code above this line\n",
    "\n",
    "print(chart)"
   ]
  },
  {
   "cell_type": "markdown",
   "id": "dacf695e",
   "metadata": {},
   "source": [
    "Exercise 2\n",
    "\n",
    "Create a Stacked Column Chart that looks like this"
   ]
  },
  {
   "cell_type": "code",
   "execution_count": 2,
   "id": "16205f1d",
   "metadata": {
    "scrolled": false
   },
   "outputs": [
    {
     "name": "stdout",
     "output_type": "stream",
     "text": [
      "              work gender count\n",
      "1   Paid Care Work    Men   322\n",
      "2   Paid Care Work  Women   183\n",
      "3 Unpaid Care Work    Men    83\n",
      "4 Unpaid Care Work  Women   265\n"
     ]
    },
    {
     "data": {
      "image/png": "[encoded data removed]",
      "text/plain": [
       "plot without title"
      ]
     },
     "metadata": {},
     "output_type": "display_data"
    }
   ],
   "source": [
    "# write your code below in RStudio\n",
    "# then press the Source button to run it\n",
    "\n",
    "suppressPackageStartupMessages(library(tidyverse))\n",
    "library(tidyverse)\n",
    "theme_update(plot.title = element_text(hjust = 0.5))\n",
    "\n",
    "# add your code below this line\n",
    "\n",
    "work <- c(rep(\"Paid Care Work\", 2) , rep(\"Unpaid Care Work\", 2))\n",
    "gender <- rep(c(\"Men\", \"Women\"), 2)\n",
    "count <- c(322, 183, 83, 265)\n",
    "df <- data.frame(work, gender, count)\n",
    "print(df)\n",
    "\n",
    "\n",
    "chart = ggplot(df, aes(x = work, y = count, fill = gender)) + geom_bar(position = \"stack\", stat = \"identity\") + labs(title = \"Minutes per Day Spent on\",  x = \"Type of Work\",   y = \"Count\",  fill = \"Gender\")\n",
    "\n",
    "print(chart)\n",
    "# add your code above this line\n",
    "\n"
   ]
  },
  {
   "cell_type": "code",
   "execution_count": 3,
   "id": "f8183497",
   "metadata": {},
   "outputs": [
    {
     "name": "stderr",
     "output_type": "stream",
     "text": [
      "Loading required package: png\n",
      "Warning message in library(package, lib.loc = lib.loc, character.only = TRUE, logical.return = TRUE, :\n",
      "\"there is no package called 'png'\"Warning message in png(\"png/comp/chart2.png\", width = 935, height = 455):\n",
      "\"unable to open file 'png/comp/chart2.png' for writing\"Warning message in png(\"png/comp/chart2.png\", width = 935, height = 455):\n",
      "\"opening device failed\""
     ]
    },
    {
     "ename": "ERROR",
     "evalue": "Error in png(\"png/comp/chart2.png\", width = 935, height = 455): unable to start png() device\n",
     "output_type": "error",
     "traceback": [
      "Error in png(\"png/comp/chart2.png\", width = 935, height = 455): unable to start png() device\nTraceback:\n",
      "1. png(\"png/comp/chart2.png\", width = 935, height = 455)"
     ]
    }
   ],
   "source": [
    "# write your code below in RStudio\n",
    "# then press the Source button to run it\n",
    "\n",
    "suppressPackageStartupMessages(library(tidyverse))\n",
    "library(tidyverse)\n",
    "theme_update(plot.title = element_text(hjust = 0.5))\n",
    "\n",
    "# add your code below this line\n",
    "\n",
    "work <- c(rep(\"Paid Care Work\", 2) , rep(\"Unpaid Care Work\", 2))\n",
    "gender <- rep(c(\"Men\", \"Women\"), 2)\n",
    "count <- c(322, 183, 83, 265)\n",
    "df <- data.frame(work, gender, count)\n",
    "\n",
    "chart <- ggplot(df, aes(x = work, y = count, fill = gender)) + \n",
    "  geom_bar(position = \"stack\", stat = \"identity\") +\n",
    "  labs(title = \"Minutes per Day Spent on\\nPaid vs. Unpaid Care Work\",\n",
    "       x = \"Type of Work\",\n",
    "       y = \"Count\",\n",
    "       fill = \"Gender\")\n",
    "\n",
    "# add your code above this line\n",
    "\n",
    "# DO NOT EDIT CODE BELOW THIS LINE\n",
    "\n",
    "require(png)\n",
    "png(\"png/comp/chart2.png\", width = 935, height = 455)\n",
    "plot(chart)\n",
    "invisible(dev.off())\n",
    "\n",
    "print(chart)\n",
    "\n",
    "img1 <- readPNG(\"png/comp/chart2.png\")\n",
    "img2 <- readPNG(\"png/comp/exercise2.png\")\n",
    "\n",
    "if((100*sum(img1==img2)/length(img1)) >= 80) {\n",
    "  print(TRUE)\n",
    "} else {\n",
    "  print(FALSE)\n",
    "}\n",
    "\n",
    "# DO NOT EDIT CODE ABOVE THIS LINE\n"
   ]
  },
  {
   "cell_type": "code",
   "execution_count": null,
   "id": "57906a91",
   "metadata": {},
   "outputs": [],
   "source": []
  }
 ],
 "metadata": {
  "kernelspec": {
   "display_name": "R",
   "language": "R",
   "name": "ir"
  },
  "language_info": {
   "codemirror_mode": "r",
   "file_extension": ".r",
   "mimetype": "text/x-r-source",
   "name": "R",
   "pygments_lexer": "r",
   "version": "3.6.1"
  }
 },
 "nbformat": 4,
 "nbformat_minor": 5
}
