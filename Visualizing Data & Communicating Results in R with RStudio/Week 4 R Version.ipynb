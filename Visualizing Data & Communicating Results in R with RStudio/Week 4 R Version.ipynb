{
 "cells": [
  {
   "cell_type": "markdown",
   "id": "678e793a",
   "metadata": {},
   "source": [
    "Which of the following formats is not a native output format in RStudio?"
   ]
  },
  {
   "cell_type": "markdown",
   "id": "f9fdb1b4",
   "metadata": {},
   "source": [
    "MS Excel"
   ]
  },
  {
   "cell_type": "markdown",
   "id": "7655b283",
   "metadata": {},
   "source": [
    "Which of the following formats is best to use if you want to present interactive data?"
   ]
  },
  {
   "cell_type": "markdown",
   "id": "d72265b8",
   "metadata": {},
   "source": [
    "Shiny app"
   ]
  },
  {
   "cell_type": "code",
   "execution_count": null,
   "id": "bf4caa17",
   "metadata": {},
   "outputs": [],
   "source": []
  }
 ],
 "metadata": {
  "kernelspec": {
   "display_name": "R",
   "language": "R",
   "name": "ir"
  },
  "language_info": {
   "codemirror_mode": "r",
   "file_extension": ".r",
   "mimetype": "text/x-r-source",
   "name": "R",
   "pygments_lexer": "r",
   "version": "3.6.1"
  }
 },
 "nbformat": 4,
 "nbformat_minor": 5
}
