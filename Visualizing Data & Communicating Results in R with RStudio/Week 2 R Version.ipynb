{
 "cells": [
  {
   "cell_type": "code",
   "execution_count": 1,
   "id": "e14b72f9",
   "metadata": {},
   "outputs": [
    {
     "name": "stderr",
     "output_type": "stream",
     "text": [
      "Registered S3 methods overwritten by 'ggplot2':\n",
      "  method         from \n",
      "  [.quosures     rlang\n",
      "  c.quosures     rlang\n",
      "  print.quosures rlang\n",
      "Registered S3 method overwritten by 'rvest':\n",
      "  method            from\n",
      "  read_xml.response xml2\n",
      "-- Attaching packages --------------------------------------- tidyverse 1.2.1 --\n",
      "v ggplot2 3.1.1       v purrr   0.3.2  \n",
      "v tibble  2.1.1       v dplyr   0.8.0.1\n",
      "v tidyr   0.8.3       v stringr 1.4.0  \n",
      "v readr   1.3.1       v forcats 0.4.0  \n",
      "-- Conflicts ------------------------------------------ tidyverse_conflicts() --\n",
      "x dplyr::filter() masks stats::filter()\n",
      "x dplyr::lag()    masks stats::lag()\n"
     ]
    }
   ],
   "source": [
    "library(tidyverse)\n",
    "theme_update(plot.title = element_text(hjust = 0.5))"
   ]
  },
  {
   "cell_type": "code",
   "execution_count": 2,
   "id": "f134384b",
   "metadata": {},
   "outputs": [],
   "source": [
    "resid = c(-3, -1, 1, -1, 3, -1, 2, 1, -1, -1, 2, -1, -1, 1, -3, -2, 3, -2, 1, 0)"
   ]
  },
  {
   "cell_type": "code",
   "execution_count": 3,
   "id": "09728caf",
   "metadata": {},
   "outputs": [],
   "source": [
    "x = c(5, 10, 5, 7, 8, 0, 1, 2, 3, 5, 2, 8, 9, 7, 7, 8, 2, 7, 1, 6)"
   ]
  },
  {
   "cell_type": "code",
   "execution_count": 4,
   "id": "4eb0f498",
   "metadata": {},
   "outputs": [
    {
     "data": {
      "text/html": [
       "<table>\n",
       "<thead><tr><th scope=col>x</th><th scope=col>resid</th></tr></thead>\n",
       "<tbody>\n",
       "\t<tr><td> 5</td><td>-3</td></tr>\n",
       "\t<tr><td>10</td><td>-1</td></tr>\n",
       "\t<tr><td> 5</td><td> 1</td></tr>\n",
       "\t<tr><td> 7</td><td>-1</td></tr>\n",
       "\t<tr><td> 8</td><td> 3</td></tr>\n",
       "\t<tr><td> 0</td><td>-1</td></tr>\n",
       "\t<tr><td> 1</td><td> 2</td></tr>\n",
       "\t<tr><td> 2</td><td> 1</td></tr>\n",
       "\t<tr><td> 3</td><td>-1</td></tr>\n",
       "\t<tr><td> 5</td><td>-1</td></tr>\n",
       "\t<tr><td> 2</td><td> 2</td></tr>\n",
       "\t<tr><td> 8</td><td>-1</td></tr>\n",
       "\t<tr><td> 9</td><td>-1</td></tr>\n",
       "\t<tr><td> 7</td><td> 1</td></tr>\n",
       "\t<tr><td> 7</td><td>-3</td></tr>\n",
       "\t<tr><td> 8</td><td>-2</td></tr>\n",
       "\t<tr><td> 2</td><td> 3</td></tr>\n",
       "\t<tr><td> 7</td><td>-2</td></tr>\n",
       "\t<tr><td> 1</td><td> 1</td></tr>\n",
       "\t<tr><td> 6</td><td> 0</td></tr>\n",
       "</tbody>\n",
       "</table>\n"
      ],
      "text/latex": [
       "\\begin{tabular}{r|ll}\n",
       " x & resid\\\\\n",
       "\\hline\n",
       "\t  5 & -3\\\\\n",
       "\t 10 & -1\\\\\n",
       "\t  5 &  1\\\\\n",
       "\t  7 & -1\\\\\n",
       "\t  8 &  3\\\\\n",
       "\t  0 & -1\\\\\n",
       "\t  1 &  2\\\\\n",
       "\t  2 &  1\\\\\n",
       "\t  3 & -1\\\\\n",
       "\t  5 & -1\\\\\n",
       "\t  2 &  2\\\\\n",
       "\t  8 & -1\\\\\n",
       "\t  9 & -1\\\\\n",
       "\t  7 &  1\\\\\n",
       "\t  7 & -3\\\\\n",
       "\t  8 & -2\\\\\n",
       "\t  2 &  3\\\\\n",
       "\t  7 & -2\\\\\n",
       "\t  1 &  1\\\\\n",
       "\t  6 &  0\\\\\n",
       "\\end{tabular}\n"
      ],
      "text/markdown": [
       "\n",
       "| x | resid |\n",
       "|---|---|\n",
       "|  5 | -3 |\n",
       "| 10 | -1 |\n",
       "|  5 |  1 |\n",
       "|  7 | -1 |\n",
       "|  8 |  3 |\n",
       "|  0 | -1 |\n",
       "|  1 |  2 |\n",
       "|  2 |  1 |\n",
       "|  3 | -1 |\n",
       "|  5 | -1 |\n",
       "|  2 |  2 |\n",
       "|  8 | -1 |\n",
       "|  9 | -1 |\n",
       "|  7 |  1 |\n",
       "|  7 | -3 |\n",
       "|  8 | -2 |\n",
       "|  2 |  3 |\n",
       "|  7 | -2 |\n",
       "|  1 |  1 |\n",
       "|  6 |  0 |\n",
       "\n"
      ],
      "text/plain": [
       "   x  resid\n",
       "1   5 -3   \n",
       "2  10 -1   \n",
       "3   5  1   \n",
       "4   7 -1   \n",
       "5   8  3   \n",
       "6   0 -1   \n",
       "7   1  2   \n",
       "8   2  1   \n",
       "9   3 -1   \n",
       "10  5 -1   \n",
       "11  2  2   \n",
       "12  8 -1   \n",
       "13  9 -1   \n",
       "14  7  1   \n",
       "15  7 -3   \n",
       "16  8 -2   \n",
       "17  2  3   \n",
       "18  7 -2   \n",
       "19  1  1   \n",
       "20  6  0   "
      ]
     },
     "metadata": {},
     "output_type": "display_data"
    }
   ],
   "source": [
    "df <- data.frame(x, resid)\n",
    "df"
   ]
  },
  {
   "cell_type": "code",
   "execution_count": 5,
   "id": "50b1b2d3",
   "metadata": {},
   "outputs": [
    {
     "data": {
      "image/png": "[encoded data removed]",
      "text/plain": [
       "plot without title"
      ]
     },
     "metadata": {},
     "output_type": "display_data"
    }
   ],
   "source": [
    "plot <- ggplot(df, aes(x=df$x, y = df$resid)) + geom_point()\n",
    "print(plot)\n"
   ]
  },
  {
   "cell_type": "code",
   "execution_count": 6,
   "id": "dad9049d",
   "metadata": {},
   "outputs": [
    {
     "name": "stdout",
     "output_type": "stream",
     "text": [
      "                     mpg cyl  disp  hp drat    wt  qsec vs am gear carb\n",
      "Mazda RX4           21.0   6 160.0 110 3.90 2.620 16.46  0  1    4    4\n",
      "Mazda RX4 Wag       21.0   6 160.0 110 3.90 2.875 17.02  0  1    4    4\n",
      "Datsun 710          22.8   4 108.0  93 3.85 2.320 18.61  1  1    4    1\n",
      "Hornet 4 Drive      21.4   6 258.0 110 3.08 3.215 19.44  1  0    3    1\n",
      "Hornet Sportabout   18.7   8 360.0 175 3.15 3.440 17.02  0  0    3    2\n",
      "Valiant             18.1   6 225.0 105 2.76 3.460 20.22  1  0    3    1\n",
      "Duster 360          14.3   8 360.0 245 3.21 3.570 15.84  0  0    3    4\n",
      "Merc 240D           24.4   4 146.7  62 3.69 3.190 20.00  1  0    4    2\n",
      "Merc 230            22.8   4 140.8  95 3.92 3.150 22.90  1  0    4    2\n",
      "Merc 280            19.2   6 167.6 123 3.92 3.440 18.30  1  0    4    4\n",
      "Merc 280C           17.8   6 167.6 123 3.92 3.440 18.90  1  0    4    4\n",
      "Merc 450SE          16.4   8 275.8 180 3.07 4.070 17.40  0  0    3    3\n",
      "Merc 450SL          17.3   8 275.8 180 3.07 3.730 17.60  0  0    3    3\n",
      "Merc 450SLC         15.2   8 275.8 180 3.07 3.780 18.00  0  0    3    3\n",
      "Cadillac Fleetwood  10.4   8 472.0 205 2.93 5.250 17.98  0  0    3    4\n",
      "Lincoln Continental 10.4   8 460.0 215 3.00 5.424 17.82  0  0    3    4\n",
      "Chrysler Imperial   14.7   8 440.0 230 3.23 5.345 17.42  0  0    3    4\n",
      "Fiat 128            32.4   4  78.7  66 4.08 2.200 19.47  1  1    4    1\n",
      "Honda Civic         30.4   4  75.7  52 4.93 1.615 18.52  1  1    4    2\n",
      "Toyota Corolla      33.9   4  71.1  65 4.22 1.835 19.90  1  1    4    1\n",
      "Toyota Corona       21.5   4 120.1  97 3.70 2.465 20.01  1  0    3    1\n",
      "Dodge Challenger    15.5   8 318.0 150 2.76 3.520 16.87  0  0    3    2\n",
      "AMC Javelin         15.2   8 304.0 150 3.15 3.435 17.30  0  0    3    2\n",
      "Camaro Z28          13.3   8 350.0 245 3.73 3.840 15.41  0  0    3    4\n",
      "Pontiac Firebird    19.2   8 400.0 175 3.08 3.845 17.05  0  0    3    2\n",
      "Fiat X1-9           27.3   4  79.0  66 4.08 1.935 18.90  1  1    4    1\n",
      "Porsche 914-2       26.0   4 120.3  91 4.43 2.140 16.70  0  1    5    2\n",
      "Lotus Europa        30.4   4  95.1 113 3.77 1.513 16.90  1  1    5    2\n",
      "Ford Pantera L      15.8   8 351.0 264 4.22 3.170 14.50  0  1    5    4\n",
      "Ferrari Dino        19.7   6 145.0 175 3.62 2.770 15.50  0  1    5    6\n",
      "Maserati Bora       15.0   8 301.0 335 3.54 3.570 14.60  0  1    5    8\n",
      "Volvo 142E          21.4   4 121.0 109 4.11 2.780 18.60  1  1    4    2\n"
     ]
    }
   ],
   "source": [
    "print(mtcars)"
   ]
  },
  {
   "cell_type": "code",
   "execution_count": 7,
   "id": "4b5d501a",
   "metadata": {},
   "outputs": [
    {
     "data": {
      "image/png": "[encoded data removed]",
      "text/plain": [
       "plot without title"
      ]
     },
     "metadata": {},
     "output_type": "display_data"
    }
   ],
   "source": [
    "plot <- ggplot(mtcars, aes(x=as.factor(carb), y=mpg)) + \n",
    "  geom_boxplot(fill=\"slateblue\", alpha=0.2) + \n",
    "  xlab(\"carb\")\n",
    "print(plot)\n"
   ]
  },
  {
   "cell_type": "code",
   "execution_count": null,
   "id": "baee323e",
   "metadata": {},
   "outputs": [],
   "source": []
  }
 ],
 "metadata": {
  "kernelspec": {
   "display_name": "R",
   "language": "R",
   "name": "ir"
  },
  "language_info": {
   "codemirror_mode": "r",
   "file_extension": ".r",
   "mimetype": "text/x-r-source",
   "name": "R",
   "pygments_lexer": "r",
   "version": "3.6.1"
  }
 },
 "nbformat": 4,
 "nbformat_minor": 5
}
