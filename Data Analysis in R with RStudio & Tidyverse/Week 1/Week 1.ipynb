{
 "cells": [
  {
   "cell_type": "code",
   "execution_count": 1,
   "id": "84c5f129",
   "metadata": {},
   "outputs": [
    {
     "name": "stdout",
     "output_type": "stream",
     "text": [
      "[1] 245\n"
     ]
    }
   ],
   "source": [
    "# write your code below in RStudio\n",
    "# then press the Source button to run it\n",
    "\n",
    "#library(tidyverse)\n",
    "\n",
    "# add your code below this line\n",
    "\n",
    "print(34 + 90 - -8 * 2^4 - 28 %/% 4)\n",
    "\n",
    "# add your code above this line"
   ]
  },
  {
   "cell_type": "markdown",
   "id": "560a0cb2",
   "metadata": {},
   "source": [
    "Answer = 245"
   ]
  },
  {
   "cell_type": "code",
   "execution_count": 2,
   "id": "dfda8b92",
   "metadata": {},
   "outputs": [
    {
     "name": "stdout",
     "output_type": "stream",
     "text": [
      "[1] -737\n"
     ]
    }
   ],
   "source": [
    "print(-78 + -8 - 24 * 3^3 - 10 %/% 3)"
   ]
  },
  {
   "cell_type": "markdown",
   "id": "16eb89e5",
   "metadata": {},
   "source": [
    "Answer = -737"
   ]
  },
  {
   "cell_type": "code",
   "execution_count": 3,
   "id": "8174f7ac",
   "metadata": {},
   "outputs": [
    {
     "name": "stderr",
     "output_type": "stream",
     "text": [
      "Registered S3 methods overwritten by 'ggplot2':\n",
      "  method         from \n",
      "  [.quosures     rlang\n",
      "  c.quosures     rlang\n",
      "  print.quosures rlang\n",
      "Registered S3 method overwritten by 'rvest':\n",
      "  method            from\n",
      "  read_xml.response xml2\n",
      "-- Attaching packages --------------------------------------- tidyverse 1.2.1 --\n",
      "v ggplot2 3.1.1       v purrr   0.3.2  \n",
      "v tibble  2.1.1       v dplyr   0.8.0.1\n",
      "v tidyr   0.8.3       v stringr 1.4.0  \n",
      "v readr   1.3.1       v forcats 0.4.0  \n",
      "-- Conflicts ------------------------------------------ tidyverse_conflicts() --\n",
      "x dplyr::filter() masks stats::filter()\n",
      "x dplyr::lag()    masks stats::lag()\n",
      "Warning message in eval(expr, envir, enclos):\n",
      "\"NAs introduced by coercion\""
     ]
    }
   ],
   "source": [
    "##DO NOT EDIT################\n",
    "library(tidyverse)          #\n",
    "args <- commandArgs(TRUE)   #\n",
    "a <- as.numeric(args[1])    #\n",
    "b <- as.numeric(args[2])    #\n",
    "#############################"
   ]
  },
  {
   "cell_type": "code",
   "execution_count": 4,
   "id": "36ff3d64",
   "metadata": {},
   "outputs": [
    {
     "name": "stdout",
     "output_type": "stream",
     "text": [
      "[1] NA\n",
      "[1] NA\n",
      "[1] NA\n"
     ]
    }
   ],
   "source": [
    "print(a + b)\n",
    "print((a + b) / 2)\n",
    "x <- c(a, b)\n",
    "print(mean(x))"
   ]
  },
  {
   "cell_type": "code",
   "execution_count": 7,
   "id": "8cbd2bce",
   "metadata": {},
   "outputs": [
    {
     "name": "stderr",
     "output_type": "stream",
     "text": [
      "Warning message in eval(expr, envir, enclos):\n",
      "\"NAs introduced by coercion\""
     ]
    },
    {
     "name": "stdout",
     "output_type": "stream",
     "text": [
      "[1] NA\n"
     ]
    }
   ],
   "source": [
    "suppressPackageStartupMessages(library(tidyverse))\n",
    "\n",
    "# write your code within the designated space below\n",
    "# then press the TRY IT button per instruction\n",
    "# to see the result of your code\n",
    "\n",
    "##DO NOT EDIT#################\n",
    "library(tidyverse)           #\n",
    "args <- commandArgs(TRUE)    #\n",
    "x <- as.numeric(args[1:4])   #\n",
    "y <- as.numeric(args[5:8])   #\n",
    "##############################\n",
    "\n",
    "# add your code below this line\n",
    "print(median(x) > median(y))\n",
    "\n",
    "\n",
    "# add your code above this line\n"
   ]
  },
  {
   "cell_type": "code",
   "execution_count": 8,
   "id": "1980fc32",
   "metadata": {},
   "outputs": [
    {
     "name": "stderr",
     "output_type": "stream",
     "text": [
      "Warning message in eval(expr, envir, enclos):\n",
      "\"NAs introduced by coercion\""
     ]
    },
    {
     "name": "stdout",
     "output_type": "stream",
     "text": [
      "[1] NA\n"
     ]
    }
   ],
   "source": [
    "suppressPackageStartupMessages(library(tidyverse))\n",
    "\n",
    "# write your code within the designated space below\n",
    "# then press the TRY IT button per instruction\n",
    "# to see the result of your code\n",
    "\n",
    "##DO NOT EDIT#################\n",
    "library(tidyverse)           #\n",
    "args <- commandArgs(TRUE)    #\n",
    "x <- as.numeric(args[1:4])   #\n",
    "y <- as.numeric(args[5:8])   #\n",
    "##############################\n",
    "\n",
    "# add your code below this line\n",
    "\n",
    "print(max(x)-min(x) <= max(y)-min(y))\n",
    "\n",
    "# add your code above this line\n"
   ]
  },
  {
   "cell_type": "code",
   "execution_count": null,
   "id": "ebb90232",
   "metadata": {},
   "outputs": [],
   "source": []
  }
 ],
 "metadata": {
  "kernelspec": {
   "display_name": "R",
   "language": "R",
   "name": "ir"
  },
  "language_info": {
   "codemirror_mode": "r",
   "file_extension": ".r",
   "mimetype": "text/x-r-source",
   "name": "R",
   "pygments_lexer": "r",
   "version": "3.6.1"
  }
 },
 "nbformat": 4,
 "nbformat_minor": 5
}
