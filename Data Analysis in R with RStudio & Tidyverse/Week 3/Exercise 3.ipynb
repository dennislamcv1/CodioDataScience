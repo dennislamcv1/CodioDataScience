{
 "cells": [
  {
   "cell_type": "code",
   "execution_count": 1,
   "id": "c8c0c7c9",
   "metadata": {},
   "outputs": [
    {
     "name": "stderr",
     "output_type": "stream",
     "text": [
      "Registered S3 methods overwritten by 'ggplot2':\n",
      "  method         from \n",
      "  [.quosures     rlang\n",
      "  c.quosures     rlang\n",
      "  print.quosures rlang\n",
      "Registered S3 method overwritten by 'rvest':\n",
      "  method            from\n",
      "  read_xml.response xml2\n",
      "-- Attaching packages --------------------------------------- tidyverse 1.2.1 --\n",
      "v ggplot2 3.1.1       v purrr   0.3.2  \n",
      "v tibble  2.1.1       v dplyr   0.8.0.1\n",
      "v tidyr   0.8.3       v stringr 1.4.0  \n",
      "v readr   1.3.1       v forcats 0.4.0  \n",
      "-- Conflicts ------------------------------------------ tidyverse_conflicts() --\n",
      "x dplyr::filter() masks stats::filter()\n",
      "x dplyr::lag()    masks stats::lag()\n"
     ]
    }
   ],
   "source": [
    "# write your code below in RStudio\n",
    "# then press the Source button to run it\n",
    "\n",
    "library(tidyverse)\n",
    "\n",
    "# add your code below this line\n",
    "\n",
    "\n",
    "\n",
    "# add your code above this line"
   ]
  },
  {
   "cell_type": "markdown",
   "id": "ee054ef8",
   "metadata": {},
   "source": [
    "The data above represents ten students’ scores before and after being exposed to a teaching intervention. Your goal is to determine if this teaching intervention resulted in a significant difference between the students’ before and after scores. Then determine which hypothesis is supported by the results."
   ]
  },
  {
   "cell_type": "markdown",
   "id": "8ed04bd2",
   "metadata": {},
   "source": [
    "Enter the p-value exactly as shown in your findings. DO NOT ROUND!"
   ]
  },
  {
   "cell_type": "code",
   "execution_count": 2,
   "id": "02f73e33",
   "metadata": {},
   "outputs": [],
   "source": [
    "before <- c(18, 21, 16, 22, 19, 24, 17, 21, 23, 18)\n",
    "after <- c(22, 25, 17, 24, 16, 29, 20, 23, 19, 20)\n"
   ]
  },
  {
   "cell_type": "code",
   "execution_count": 3,
   "id": "fc7fde7f",
   "metadata": {},
   "outputs": [
    {
     "name": "stdout",
     "output_type": "stream",
     "text": [
      "\n",
      "\tPaired t-test\n",
      "\n",
      "data:  before and after\n",
      "t = -1.7143, df = 9, p-value = 0.1206\n",
      "alternative hypothesis: true difference in means is not equal to 0\n",
      "95 percent confidence interval:\n",
      " -3.7113467  0.5113467\n",
      "sample estimates:\n",
      "mean of the differences \n",
      "                   -1.6 \n",
      "\n"
     ]
    }
   ],
   "source": [
    "print(t.test(before, after, paired = TRUE))\n"
   ]
  },
  {
   "cell_type": "markdown",
   "id": "289f9281",
   "metadata": {},
   "source": [
    "Based on the p-value found, which of the following conclusions best describes the relationship between students’ before and after scores."
   ]
  },
  {
   "cell_type": "markdown",
   "id": "2219172f",
   "metadata": {},
   "source": [
    "There is no statistically significant difference between the students’ before and after scores."
   ]
  },
  {
   "cell_type": "markdown",
   "id": "ab89cd6e",
   "metadata": {},
   "source": [
    "Given the following hypotheses: Which of the following statements is best supported by the results?"
   ]
  },
  {
   "cell_type": "markdown",
   "id": "29f72975",
   "metadata": {},
   "source": [
    "We failed to reject the null hypothesis."
   ]
  },
  {
   "cell_type": "code",
   "execution_count": null,
   "id": "a17a3e0b",
   "metadata": {},
   "outputs": [],
   "source": []
  }
 ],
 "metadata": {
  "kernelspec": {
   "display_name": "R",
   "language": "R",
   "name": "ir"
  },
  "language_info": {
   "codemirror_mode": "r",
   "file_extension": ".r",
   "mimetype": "text/x-r-source",
   "name": "R",
   "pygments_lexer": "r",
   "version": "3.6.1"
  }
 },
 "nbformat": 4,
 "nbformat_minor": 5
}
