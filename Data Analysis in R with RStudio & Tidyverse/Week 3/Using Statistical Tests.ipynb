{
 "cells": [
  {
   "cell_type": "code",
   "execution_count": 1,
   "id": "ab568dcd",
   "metadata": {},
   "outputs": [],
   "source": [
    "import pandas as pd\n",
    "import statistics as sts\n",
    "import scipy.stats"
   ]
  },
  {
   "cell_type": "markdown",
   "id": "5e48625c",
   "metadata": {},
   "source": [
    "Exercise 1\n",
    "\n",
    "If I want to conduct an ANOVA test on my data, which of the following commands should I use? Note: x and y represent vectors.\n",
    "\n",
    "    "
   ]
  },
  {
   "cell_type": "markdown",
   "id": "26c5ad96",
   "metadata": {},
   "source": [
    "aov(x ~ y)"
   ]
  },
  {
   "cell_type": "markdown",
   "id": "01ad3c54",
   "metadata": {},
   "source": [
    "Exercise 2\n",
    "\n",
    "Given the following printed results:\n",
    "    \n",
    "sample estimates:\n",
    "\n",
    "mean of x mean of y \n",
    "\n",
    " 52.10000  68.98889 \n",
    "\n",
    "Determine which of the following tests was used on the data above."
   ]
  },
  {
   "cell_type": "markdown",
   "id": "a4c84d38",
   "metadata": {},
   "source": [
    "Independent T-Test"
   ]
  },
  {
   "cell_type": "markdown",
   "id": "08fb571f",
   "metadata": {},
   "source": [
    "For this exercise, you’ll be working through several steps to determine if two given sets of data that belong to the same sample or group have an average measurement that is statistically significant to each other or not.\n",
    "Given the following table, import the data into two individual vectors. You can name these vectors however you like."
   ]
  },
  {
   "cell_type": "code",
   "execution_count": 2,
   "id": "65e71914",
   "metadata": {},
   "outputs": [],
   "source": [
    "before = [18, 21, 16, 22, 19, 24, 17, 21, 23, 18]\n",
    "after = [22, 25, 17, 24, 16, 29, 20, 23, 19, 20]"
   ]
  },
  {
   "cell_type": "code",
   "execution_count": 3,
   "id": "5c04ace9",
   "metadata": {},
   "outputs": [],
   "source": [
    "d = {'before':[18, 21, 16, 22, 19, 24, 17, 21, 23, 18], 'after':[22, 25, 17, 24, 16, 29, 20, 23, 19, 20]}"
   ]
  },
  {
   "cell_type": "code",
   "execution_count": 4,
   "id": "fe1d1207",
   "metadata": {},
   "outputs": [],
   "source": [
    "df = pd.DataFrame(data=d )"
   ]
  },
  {
   "cell_type": "code",
   "execution_count": 5,
   "id": "f9c3a259",
   "metadata": {},
   "outputs": [
    {
     "data": {
      "text/html": [
       "<div>\n",
       "<style scoped>\n",
       "    .dataframe tbody tr th:only-of-type {\n",
       "        vertical-align: middle;\n",
       "    }\n",
       "\n",
       "    .dataframe tbody tr th {\n",
       "        vertical-align: top;\n",
       "    }\n",
       "\n",
       "    .dataframe thead th {\n",
       "        text-align: right;\n",
       "    }\n",
       "</style>\n",
       "<table border=\"1\" class=\"dataframe\">\n",
       "  <thead>\n",
       "    <tr style=\"text-align: right;\">\n",
       "      <th></th>\n",
       "      <th>before</th>\n",
       "      <th>after</th>\n",
       "    </tr>\n",
       "  </thead>\n",
       "  <tbody>\n",
       "    <tr>\n",
       "      <th>0</th>\n",
       "      <td>18</td>\n",
       "      <td>22</td>\n",
       "    </tr>\n",
       "    <tr>\n",
       "      <th>1</th>\n",
       "      <td>21</td>\n",
       "      <td>25</td>\n",
       "    </tr>\n",
       "    <tr>\n",
       "      <th>2</th>\n",
       "      <td>16</td>\n",
       "      <td>17</td>\n",
       "    </tr>\n",
       "    <tr>\n",
       "      <th>3</th>\n",
       "      <td>22</td>\n",
       "      <td>24</td>\n",
       "    </tr>\n",
       "    <tr>\n",
       "      <th>4</th>\n",
       "      <td>19</td>\n",
       "      <td>16</td>\n",
       "    </tr>\n",
       "    <tr>\n",
       "      <th>5</th>\n",
       "      <td>24</td>\n",
       "      <td>29</td>\n",
       "    </tr>\n",
       "    <tr>\n",
       "      <th>6</th>\n",
       "      <td>17</td>\n",
       "      <td>20</td>\n",
       "    </tr>\n",
       "    <tr>\n",
       "      <th>7</th>\n",
       "      <td>21</td>\n",
       "      <td>23</td>\n",
       "    </tr>\n",
       "    <tr>\n",
       "      <th>8</th>\n",
       "      <td>23</td>\n",
       "      <td>19</td>\n",
       "    </tr>\n",
       "    <tr>\n",
       "      <th>9</th>\n",
       "      <td>18</td>\n",
       "      <td>20</td>\n",
       "    </tr>\n",
       "  </tbody>\n",
       "</table>\n",
       "</div>"
      ],
      "text/plain": [
       "   before  after\n",
       "0      18     22\n",
       "1      21     25\n",
       "2      16     17\n",
       "3      22     24\n",
       "4      19     16\n",
       "5      24     29\n",
       "6      17     20\n",
       "7      21     23\n",
       "8      23     19\n",
       "9      18     20"
      ]
     },
     "execution_count": 5,
     "metadata": {},
     "output_type": "execute_result"
    }
   ],
   "source": [
    "df"
   ]
  },
  {
   "cell_type": "code",
   "execution_count": 6,
   "id": "61c52823",
   "metadata": {},
   "outputs": [],
   "source": [
    "t, p = scipy.stats.ttest_ind(a=df.before,b=df.after, equal_var = False)"
   ]
  },
  {
   "cell_type": "code",
   "execution_count": 7,
   "id": "bf59218b",
   "metadata": {},
   "outputs": [
    {
     "name": "stdout",
     "output_type": "stream",
     "text": [
      "T-test value is:  -1.064304168380384\n",
      "p-value value is:  0.3030720816861898\n"
     ]
    }
   ],
   "source": [
    "print(\"T-test value is: \",t)\n",
    "print(\"p-value value is: \",p)"
   ]
  },
  {
   "cell_type": "markdown",
   "id": "c1a94e01",
   "metadata": {},
   "source": [
    "Enter the p-value exactly as shown in your findings. DO NOT ROUND!\n",
    "\n",
    "0.1206"
   ]
  },
  {
   "cell_type": "markdown",
   "id": "7cb43e54",
   "metadata": {},
   "source": [
    "Statistical Significance\n",
    "\n",
    "Based on the p-value found, which of the following conclusions best describes the relationship between students’ before and after scores.\n"
   ]
  },
  {
   "cell_type": "markdown",
   "id": "9428eb6b",
   "metadata": {},
   "source": [
    "There is no statistically significant difference between the students’ before and after scores."
   ]
  },
  {
   "cell_type": "markdown",
   "id": "2e25beea",
   "metadata": {},
   "source": [
    "Hypothesis\n",
    "\n",
    "Given the following hypotheses:\n",
    "\n",
    "    Null Hypothesis: The teaching intervention resulted in no significant difference between the students’ before and after scores.\n",
    "        \n",
    "    Alternative Hypothesis: The teaching intervention resulted in a significant difference between the students’ before and after scores.\n",
    "\n",
    "Which of the following statements is best supported by the results?\n"
   ]
  },
  {
   "cell_type": "markdown",
   "id": "86b7b8fa",
   "metadata": {},
   "source": [
    "We failed to reject the null hypothesis."
   ]
  },
  {
   "cell_type": "code",
   "execution_count": null,
   "id": "4193c55e",
   "metadata": {},
   "outputs": [],
   "source": []
  }
 ],
 "metadata": {
  "kernelspec": {
   "display_name": "Python 3 (ipykernel)",
   "language": "python",
   "name": "python3"
  },
  "language_info": {
   "codemirror_mode": {
    "name": "ipython",
    "version": 3
   },
   "file_extension": ".py",
   "mimetype": "text/x-python",
   "name": "python",
   "nbconvert_exporter": "python",
   "pygments_lexer": "ipython3",
   "version": "3.9.12"
  }
 },
 "nbformat": 4,
 "nbformat_minor": 5
}
