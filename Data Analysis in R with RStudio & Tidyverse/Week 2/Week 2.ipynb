{
 "cells": [
  {
   "cell_type": "markdown",
   "id": "99a0f0a9",
   "metadata": {},
   "source": [
    "Exercise 1\n",
    "\n",
    "Which of the following commands is used correctly to store the data in the variables name and age in a data frame called people?\n"
   ]
  },
  {
   "cell_type": "markdown",
   "id": "d6b1e326",
   "metadata": {},
   "source": [
    "people <- data.frame(name, age)"
   ]
  },
  {
   "cell_type": "markdown",
   "id": "71218a4d",
   "metadata": {},
   "source": [
    "Exercise 2\n",
    "\n",
    "Given the following printed console data frame called df:\n",
    "\n",
    "Which of the following will be printed if I use the command print(tail(df, n = 3))?"
   ]
  },
  {
   "cell_type": "code",
   "execution_count": null,
   "id": "d6df970d",
   "metadata": {},
   "outputs": [],
   "source": [
    "    h   w\n",
    "4  72 167\n",
    "5  66 124\n",
    "6  66 115\n"
   ]
  },
  {
   "cell_type": "markdown",
   "id": "64d3a13c",
   "metadata": {},
   "source": [
    "Exercise 4"
   ]
  },
  {
   "cell_type": "code",
   "execution_count": 16,
   "id": "dcdb16cc",
   "metadata": {},
   "outputs": [],
   "source": [
    "df1 = head(read.csv(\"data1.csv\"),2, row.names = FALSE)\n",
    "df2 = tail(read.csv(\"data1.csv\"),3, row.names = FALSE)"
   ]
  },
  {
   "cell_type": "code",
   "execution_count": 17,
   "id": "dcdd347d",
   "metadata": {},
   "outputs": [
    {
     "data": {
      "text/html": [
       "<table>\n",
       "<thead><tr><th scope=col>Color</th><th scope=col>Count</th><th scope=col>Male</th><th scope=col>Female</th></tr></thead>\n",
       "<tbody>\n",
       "\t<tr><td>Red </td><td>56  </td><td>30  </td><td>26  </td></tr>\n",
       "\t<tr><td>Blue</td><td>78  </td><td>38  </td><td>40  </td></tr>\n",
       "</tbody>\n",
       "</table>\n"
      ],
      "text/latex": [
       "\\begin{tabular}{r|llll}\n",
       " Color & Count & Male & Female\\\\\n",
       "\\hline\n",
       "\t Red  & 56   & 30   & 26  \\\\\n",
       "\t Blue & 78   & 38   & 40  \\\\\n",
       "\\end{tabular}\n"
      ],
      "text/markdown": [
       "\n",
       "| Color | Count | Male | Female |\n",
       "|---|---|---|---|\n",
       "| Red  | 56   | 30   | 26   |\n",
       "| Blue | 78   | 38   | 40   |\n",
       "\n"
      ],
      "text/plain": [
       "  Color Count Male Female\n",
       "1 Red   56    30   26    \n",
       "2 Blue  78    38   40    "
      ]
     },
     "metadata": {},
     "output_type": "display_data"
    }
   ],
   "source": [
    "df1"
   ]
  },
  {
   "cell_type": "code",
   "execution_count": 18,
   "id": "b090a3de",
   "metadata": {},
   "outputs": [
    {
     "data": {
      "text/html": [
       "<table>\n",
       "<thead><tr><th></th><th scope=col>Color</th><th scope=col>Count</th><th scope=col>Male</th><th scope=col>Female</th></tr></thead>\n",
       "<tbody>\n",
       "\t<tr><th scope=row>6</th><td>Purple</td><td>32    </td><td>21    </td><td>11    </td></tr>\n",
       "\t<tr><th scope=row>7</th><td>Pink  </td><td>23    </td><td> 8    </td><td>15    </td></tr>\n",
       "\t<tr><th scope=row>8</th><td>Other </td><td>39    </td><td>19    </td><td>20    </td></tr>\n",
       "</tbody>\n",
       "</table>\n"
      ],
      "text/latex": [
       "\\begin{tabular}{r|llll}\n",
       "  & Color & Count & Male & Female\\\\\n",
       "\\hline\n",
       "\t6 & Purple & 32     & 21     & 11    \\\\\n",
       "\t7 & Pink   & 23     &  8     & 15    \\\\\n",
       "\t8 & Other  & 39     & 19     & 20    \\\\\n",
       "\\end{tabular}\n"
      ],
      "text/markdown": [
       "\n",
       "| <!--/--> | Color | Count | Male | Female |\n",
       "|---|---|---|---|---|\n",
       "| 6 | Purple | 32     | 21     | 11     |\n",
       "| 7 | Pink   | 23     |  8     | 15     |\n",
       "| 8 | Other  | 39     | 19     | 20     |\n",
       "\n"
      ],
      "text/plain": [
       "  Color  Count Male Female\n",
       "6 Purple 32    21   11    \n",
       "7 Pink   23     8   15    \n",
       "8 Other  39    19   20    "
      ]
     },
     "metadata": {},
     "output_type": "display_data"
    }
   ],
   "source": [
    "df2"
   ]
  },
  {
   "cell_type": "code",
   "execution_count": 19,
   "id": "c0019870",
   "metadata": {},
   "outputs": [
    {
     "data": {
      "text/html": [
       "<table>\n",
       "<thead><tr><th></th><th scope=col>Color</th><th scope=col>Count</th><th scope=col>Male</th><th scope=col>Female</th></tr></thead>\n",
       "<tbody>\n",
       "\t<tr><th scope=row>1</th><td>Red   </td><td>56    </td><td>30    </td><td>26    </td></tr>\n",
       "\t<tr><th scope=row>2</th><td>Blue  </td><td>78    </td><td>38    </td><td>40    </td></tr>\n",
       "\t<tr><th scope=row>6</th><td>Purple</td><td>32    </td><td>21    </td><td>11    </td></tr>\n",
       "\t<tr><th scope=row>7</th><td>Pink  </td><td>23    </td><td> 8    </td><td>15    </td></tr>\n",
       "\t<tr><th scope=row>8</th><td>Other </td><td>39    </td><td>19    </td><td>20    </td></tr>\n",
       "</tbody>\n",
       "</table>\n"
      ],
      "text/latex": [
       "\\begin{tabular}{r|llll}\n",
       "  & Color & Count & Male & Female\\\\\n",
       "\\hline\n",
       "\t1 & Red    & 56     & 30     & 26    \\\\\n",
       "\t2 & Blue   & 78     & 38     & 40    \\\\\n",
       "\t6 & Purple & 32     & 21     & 11    \\\\\n",
       "\t7 & Pink   & 23     &  8     & 15    \\\\\n",
       "\t8 & Other  & 39     & 19     & 20    \\\\\n",
       "\\end{tabular}\n"
      ],
      "text/markdown": [
       "\n",
       "| <!--/--> | Color | Count | Male | Female |\n",
       "|---|---|---|---|---|\n",
       "| 1 | Red    | 56     | 30     | 26     |\n",
       "| 2 | Blue   | 78     | 38     | 40     |\n",
       "| 6 | Purple | 32     | 21     | 11     |\n",
       "| 7 | Pink   | 23     |  8     | 15     |\n",
       "| 8 | Other  | 39     | 19     | 20     |\n",
       "\n"
      ],
      "text/plain": [
       "  Color  Count Male Female\n",
       "1 Red    56    30   26    \n",
       "2 Blue   78    38   40    \n",
       "6 Purple 32    21   11    \n",
       "7 Pink   23     8   15    \n",
       "8 Other  39    19   20    "
      ]
     },
     "metadata": {},
     "output_type": "display_data"
    }
   ],
   "source": [
    "rbind(df1,df2)"
   ]
  },
  {
   "cell_type": "code",
   "execution_count": null,
   "id": "0e7147a6",
   "metadata": {},
   "outputs": [],
   "source": []
  }
 ],
 "metadata": {
  "kernelspec": {
   "display_name": "R",
   "language": "R",
   "name": "ir"
  },
  "language_info": {
   "codemirror_mode": "r",
   "file_extension": ".r",
   "mimetype": "text/x-r-source",
   "name": "R",
   "pygments_lexer": "r",
   "version": "3.6.1"
  }
 },
 "nbformat": 4,
 "nbformat_minor": 5
}
