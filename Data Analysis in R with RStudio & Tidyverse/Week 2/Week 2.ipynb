{
 "cells": [
  {
   "cell_type": "markdown",
   "id": "99a0f0a9",
   "metadata": {},
   "source": [
    "Exercise 1\n",
    "\n",
    "Which of the following commands is used correctly to store the data in the variables name and age in a data frame called people?\n"
   ]
  },
  {
   "cell_type": "code",
   "execution_count": null,
   "id": "17bc32a9",
   "metadata": {},
   "outputs": [],
   "source": [
    "# people <- data.frame(name, age)"
   ]
  },
  {
   "cell_type": "markdown",
   "id": "71218a4d",
   "metadata": {},
   "source": [
    "Exercise 2\n",
    "\n",
    "Given the following printed console data frame called df:\n",
    "\n",
    "Which of the following will be printed if I use the command print(tail(df, n = 3))?"
   ]
  },
  {
   "cell_type": "code",
   "execution_count": null,
   "id": "d6df970d",
   "metadata": {},
   "outputs": [],
   "source": [
    "    h   w\n",
    "4  72 167\n",
    "5  66 124\n",
    "6  66 115\n"
   ]
  },
  {
   "cell_type": "markdown",
   "id": "3af52ca3",
   "metadata": {},
   "source": [
    "Exercise 3"
   ]
  },
  {
   "cell_type": "code",
   "execution_count": null,
   "id": "fff99817",
   "metadata": {},
   "outputs": [],
   "source": [
    "suppressPackageStartupMessages(library(tidyverse))\n",
    "\n",
    "# write your code within the designated space below\n",
    "# then press the TRY IT button per instruction\n",
    "# to see the result of your code\n",
    "\n",
    "##DO NOT EDIT#################\n",
    "library(tidyverse)           #\n",
    "args <- commandArgs(TRUE)    #\n",
    "csv <- read.csv(args[1])     #\n",
    "##############################\n",
    "\n",
    "# add your code below this line\n",
    "\n",
    "print(csv[0:2], row.names = FALSE)\n",
    "\n",
    "# add your code above this line"
   ]
  },
  {
   "cell_type": "code",
   "execution_count": null,
   "id": "f9b00c06",
   "metadata": {},
   "outputs": [],
   "source": [
    "d <- (csv[1:2])\n",
    "print(d, row.names = FALSE)"
   ]
  },
  {
   "cell_type": "markdown",
   "id": "64d3a13c",
   "metadata": {},
   "source": [
    "Exercise 4"
   ]
  },
  {
   "cell_type": "code",
   "execution_count": null,
   "id": "8ea1ddd4",
   "metadata": {},
   "outputs": [],
   "source": [
    "suppressPackageStartupMessages(library(tidyverse))\n",
    "\n",
    "# write your code within the designated space below\n",
    "# then press the TRY IT button per instruction\n",
    "# to see the result of your code\n",
    "\n",
    "##DO NOT EDIT#################\n",
    "library(tidyverse)           #\n",
    "args <- commandArgs(TRUE)    #\n",
    "csv <- read.csv(args[1])     #\n",
    "##############################\n",
    "\n",
    "# add your code below this line\n",
    "\n",
    "df1 <- head(csv, n = 2)\n",
    "df2 <- tail(csv, n = 3)\n",
    "df <- rbind(df1, df2)\n",
    "\n",
    "\n",
    "# add your code above this line\n",
    "print(df, row.names = FALSE)"
   ]
  },
  {
   "cell_type": "markdown",
   "id": "f17d8c8f",
   "metadata": {},
   "source": [
    "Exercise 5"
   ]
  },
  {
   "cell_type": "code",
   "execution_count": null,
   "id": "7362b601",
   "metadata": {},
   "outputs": [],
   "source": [
    "suppressPackageStartupMessages(library(tidyverse))\n",
    "\n",
    "# write your code within the designated space below\n",
    "# then press the TRY IT button per instruction\n",
    "# to see the result of your code\n",
    "\n",
    "##DO NOT EDIT#################\n",
    "library(tidyverse)           #\n",
    "args <- commandArgs(TRUE)    #\n",
    "csv <- read.csv(args[1])     #\n",
    "##############################\n",
    "\n",
    "# add your code below this line\n",
    "\n",
    "print(csv[order(-csv$CostPerPound),], row.names = FALSE)\n",
    "\n",
    "# add your code above this line\n"
   ]
  },
  {
   "cell_type": "code",
   "execution_count": null,
   "id": "1843decb",
   "metadata": {},
   "outputs": [],
   "source": []
  }
 ],
 "metadata": {
  "kernelspec": {
   "display_name": "R",
   "language": "R",
   "name": "ir"
  },
  "language_info": {
   "codemirror_mode": "r",
   "file_extension": ".r",
   "mimetype": "text/x-r-source",
   "name": "R",
   "pygments_lexer": "r",
   "version": "3.6.1"
  }
 },
 "nbformat": 4,
 "nbformat_minor": 5
}
