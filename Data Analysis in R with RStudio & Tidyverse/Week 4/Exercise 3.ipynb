{
 "cells": [
  {
   "cell_type": "markdown",
   "id": "f9f901ae",
   "metadata": {},
   "source": [
    "Select the exact Pr(>|t|) value that shows how strongly Salary is dependent on Years of Experience."
   ]
  },
  {
   "cell_type": "code",
   "execution_count": 1,
   "id": "eabdd1af",
   "metadata": {},
   "outputs": [
    {
     "name": "stderr",
     "output_type": "stream",
     "text": [
      "Registered S3 methods overwritten by 'ggplot2':\n",
      "  method         from \n",
      "  [.quosures     rlang\n",
      "  c.quosures     rlang\n",
      "  print.quosures rlang\n",
      "Registered S3 method overwritten by 'rvest':\n",
      "  method            from\n",
      "  read_xml.response xml2\n",
      "-- Attaching packages --------------------------------------- tidyverse 1.2.1 --\n",
      "v ggplot2 3.1.1       v purrr   0.3.2  \n",
      "v tibble  2.1.1       v dplyr   0.8.0.1\n",
      "v tidyr   0.8.3       v stringr 1.4.0  \n",
      "v readr   1.3.1       v forcats 0.4.0  \n",
      "-- Conflicts ------------------------------------------ tidyverse_conflicts() --\n",
      "x dplyr::filter() masks stats::filter()\n",
      "x dplyr::lag()    masks stats::lag()\n"
     ]
    },
    {
     "name": "stdout",
     "output_type": "stream",
     "text": [
      "\n",
      "Call:\n",
      "lm(formula = salary ~ years)\n",
      "\n",
      "Residuals:\n",
      "     Min       1Q   Median       3Q      Max \n",
      "-14556.4   -928.5    140.0   2561.8   9091.8 \n",
      "\n",
      "Coefficients:\n",
      "            Estimate Std. Error t value Pr(>|t|)    \n",
      "(Intercept)  29484.7     4737.8   6.223 0.000253 ***\n",
      "years         3010.9      294.8  10.214 7.25e-06 ***\n",
      "---\n",
      "Signif. codes:  0 '***' 0.001 '**' 0.01 '*' 0.05 '.' 0.1 ' ' 1\n",
      "\n",
      "Residual standard error: 6462 on 8 degrees of freedom\n",
      "Multiple R-squared:  0.9288,\tAdjusted R-squared:  0.9199 \n",
      "F-statistic: 104.3 on 1 and 8 DF,  p-value: 7.247e-06\n",
      "\n"
     ]
    }
   ],
   "source": [
    "# write your code below in RStudio\n",
    "# then press the Source button to run it\n",
    "\n",
    "library(tidyverse)\n",
    "\n",
    "# add your code below this line\n",
    "\n",
    "years <- c(3, 6, 8, 10, 14, 18, 20, 21, 22, 23)\n",
    "salary <- c(37731, 56642, 54445, 57189, 57081, 83088, 93940, 91738, 98273, 101302)\n",
    "\n",
    "\n",
    "# add your code above this line\n",
    "\n",
    "print(summary(lm(formula = salary ~ years)))\n"
   ]
  },
  {
   "cell_type": "markdown",
   "id": "9567a359",
   "metadata": {},
   "source": [
    "Based on the Pr(>|t|) value found, which of the following conclusions best describes the relationship between Salary and Years of Experience."
   ]
  },
  {
   "cell_type": "markdown",
   "id": "dfa94323",
   "metadata": {},
   "source": [
    "Salary is dependent on Years of Experience."
   ]
  },
  {
   "cell_type": "markdown",
   "id": "1b3143c6",
   "metadata": {},
   "source": [
    "What is the predicted new Salary for 30 Years of Experience?"
   ]
  },
  {
   "cell_type": "code",
   "execution_count": 2,
   "id": "40ad5bbf",
   "metadata": {},
   "outputs": [],
   "source": [
    "new_years <- data.frame(years = c(4, 5, 7, 9, 11, 12, 13, 29, 30, 31))\n"
   ]
  },
  {
   "cell_type": "code",
   "execution_count": 3,
   "id": "b9788642",
   "metadata": {},
   "outputs": [],
   "source": [
    "linear_model <- lm(formula = salary ~ years)\n"
   ]
  },
  {
   "cell_type": "code",
   "execution_count": 4,
   "id": "8f010626",
   "metadata": {},
   "outputs": [
    {
     "name": "stdout",
     "output_type": "stream",
     "text": [
      "        1         2         3         4         5         6         7         8 \n",
      " 41528.34  44539.25  50561.07  56582.89  62604.71  65615.62  68626.53 116801.10 \n",
      "        9        10 \n",
      "119812.01 122822.92 \n"
     ]
    }
   ],
   "source": [
    "print(predict(object = linear_model, newdata = new_years))\n"
   ]
  },
  {
   "cell_type": "markdown",
   "id": "4e3e7676",
   "metadata": {},
   "source": [
    "119812.01"
   ]
  },
  {
   "cell_type": "code",
   "execution_count": null,
   "id": "423644ee",
   "metadata": {},
   "outputs": [],
   "source": []
  }
 ],
 "metadata": {
  "kernelspec": {
   "display_name": "R",
   "language": "R",
   "name": "ir"
  },
  "language_info": {
   "codemirror_mode": "r",
   "file_extension": ".r",
   "mimetype": "text/x-r-source",
   "name": "R",
   "pygments_lexer": "r",
   "version": "3.6.1"
  }
 },
 "nbformat": 4,
 "nbformat_minor": 5
}
