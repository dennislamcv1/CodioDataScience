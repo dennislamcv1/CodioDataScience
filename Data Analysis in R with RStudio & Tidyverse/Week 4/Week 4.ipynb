{
 "cells": [
  {
   "cell_type": "markdown",
   "id": "8bc95c0b",
   "metadata": {},
   "source": [
    "Exercise 1\n",
    "\n",
    "Which of the following p-values show that the data assessed is independent of each other. In other words, the data does not show significant association.\n"
   ]
  },
  {
   "cell_type": "markdown",
   "id": "2b6f7c77",
   "metadata": {},
   "source": [
    "0.09"
   ]
  },
  {
   "cell_type": "markdown",
   "id": "6f5c1708",
   "metadata": {},
   "source": [
    "Exercise 2\n",
    "\n",
    "Assuming that the variables represent vectors of data, which of the following syntax is correct for calculating logistic regression?\n"
   ]
  },
  {
   "cell_type": "markdown",
   "id": "d3a92208",
   "metadata": {},
   "source": [
    "summary(glm(y ~ x, family = \"binomial\"))"
   ]
  },
  {
   "cell_type": "markdown",
   "id": "399c429a",
   "metadata": {},
   "source": [
    "The data above represents the average salary earned based on years of experience. Your goal is to determine if Salary is dependent on or is strongly associated with Years of Experience"
   ]
  },
  {
   "cell_type": "code",
   "execution_count": 1,
   "id": "0c57d828",
   "metadata": {},
   "outputs": [],
   "source": [
    "import pandas as pd\n",
    "\n",
    "import statsmodels.api as sm\n",
    "import statsmodels.formula.api as smf\n",
    "from statsmodels.formula.api import ols\n",
    "\n",
    "from sklearn.linear_model import LinearRegression"
   ]
  },
  {
   "cell_type": "code",
   "execution_count": 2,
   "id": "0ba99237",
   "metadata": {},
   "outputs": [],
   "source": [
    "years = [3, 6, 8, 10, 14, 18, 20, 21, 22, 23]\n",
    "salary = [37731, 56642, 54445, 57189, 57081, 83088, 93940, 91738, 98273, 101302]"
   ]
  },
  {
   "cell_type": "code",
   "execution_count": 3,
   "id": "21be044d",
   "metadata": {},
   "outputs": [],
   "source": [
    "d = {\"years\": [3, 6, 8, 10, 14, 18, 20, 21, 22, 23], \"salary\" : [37731, 56642, 54445, 57189, 57081, 83088, 93940, 91738, 98273, 101302]}"
   ]
  },
  {
   "cell_type": "code",
   "execution_count": 4,
   "id": "40006ad8",
   "metadata": {},
   "outputs": [],
   "source": [
    "df = pd.DataFrame(d)"
   ]
  },
  {
   "cell_type": "code",
   "execution_count": 5,
   "id": "c9d5c759",
   "metadata": {},
   "outputs": [
    {
     "data": {
      "text/html": [
       "<div>\n",
       "<style scoped>\n",
       "    .dataframe tbody tr th:only-of-type {\n",
       "        vertical-align: middle;\n",
       "    }\n",
       "\n",
       "    .dataframe tbody tr th {\n",
       "        vertical-align: top;\n",
       "    }\n",
       "\n",
       "    .dataframe thead th {\n",
       "        text-align: right;\n",
       "    }\n",
       "</style>\n",
       "<table border=\"1\" class=\"dataframe\">\n",
       "  <thead>\n",
       "    <tr style=\"text-align: right;\">\n",
       "      <th></th>\n",
       "      <th>years</th>\n",
       "      <th>salary</th>\n",
       "    </tr>\n",
       "  </thead>\n",
       "  <tbody>\n",
       "    <tr>\n",
       "      <th>0</th>\n",
       "      <td>3</td>\n",
       "      <td>37731</td>\n",
       "    </tr>\n",
       "    <tr>\n",
       "      <th>1</th>\n",
       "      <td>6</td>\n",
       "      <td>56642</td>\n",
       "    </tr>\n",
       "    <tr>\n",
       "      <th>2</th>\n",
       "      <td>8</td>\n",
       "      <td>54445</td>\n",
       "    </tr>\n",
       "    <tr>\n",
       "      <th>3</th>\n",
       "      <td>10</td>\n",
       "      <td>57189</td>\n",
       "    </tr>\n",
       "    <tr>\n",
       "      <th>4</th>\n",
       "      <td>14</td>\n",
       "      <td>57081</td>\n",
       "    </tr>\n",
       "    <tr>\n",
       "      <th>5</th>\n",
       "      <td>18</td>\n",
       "      <td>83088</td>\n",
       "    </tr>\n",
       "    <tr>\n",
       "      <th>6</th>\n",
       "      <td>20</td>\n",
       "      <td>93940</td>\n",
       "    </tr>\n",
       "    <tr>\n",
       "      <th>7</th>\n",
       "      <td>21</td>\n",
       "      <td>91738</td>\n",
       "    </tr>\n",
       "    <tr>\n",
       "      <th>8</th>\n",
       "      <td>22</td>\n",
       "      <td>98273</td>\n",
       "    </tr>\n",
       "    <tr>\n",
       "      <th>9</th>\n",
       "      <td>23</td>\n",
       "      <td>101302</td>\n",
       "    </tr>\n",
       "  </tbody>\n",
       "</table>\n",
       "</div>"
      ],
      "text/plain": [
       "   years  salary\n",
       "0      3   37731\n",
       "1      6   56642\n",
       "2      8   54445\n",
       "3     10   57189\n",
       "4     14   57081\n",
       "5     18   83088\n",
       "6     20   93940\n",
       "7     21   91738\n",
       "8     22   98273\n",
       "9     23  101302"
      ]
     },
     "execution_count": 5,
     "metadata": {},
     "output_type": "execute_result"
    }
   ],
   "source": [
    "df"
   ]
  },
  {
   "cell_type": "code",
   "execution_count": 6,
   "id": "06e5a29f",
   "metadata": {},
   "outputs": [],
   "source": [
    "y = df['salary']\n",
    "X = df['years']"
   ]
  },
  {
   "cell_type": "code",
   "execution_count": 7,
   "id": "469b3970",
   "metadata": {},
   "outputs": [
    {
     "name": "stderr",
     "output_type": "stream",
     "text": [
      "C:\\ProgramData\\Anaconda3\\lib\\site-packages\\statsmodels\\tsa\\tsatools.py:142: FutureWarning: In a future version of pandas all arguments of concat except for the argument 'objs' will be keyword-only\n",
      "  x = pd.concat(x[::order], 1)\n"
     ]
    }
   ],
   "source": [
    "X = sm.add_constant(X)"
   ]
  },
  {
   "cell_type": "code",
   "execution_count": 8,
   "id": "ce7abcfa",
   "metadata": {},
   "outputs": [],
   "source": [
    "model = sm.OLS(y,X).fit()"
   ]
  },
  {
   "cell_type": "code",
   "execution_count": 9,
   "id": "e82c25c7",
   "metadata": {},
   "outputs": [
    {
     "name": "stderr",
     "output_type": "stream",
     "text": [
      "C:\\ProgramData\\Anaconda3\\lib\\site-packages\\scipy\\stats\\stats.py:1541: UserWarning: kurtosistest only valid for n>=20 ... continuing anyway, n=10\n",
      "  warnings.warn(\"kurtosistest only valid for n>=20 ... continuing \"\n"
     ]
    },
    {
     "data": {
      "text/html": [
       "<table class=\"simpletable\">\n",
       "<caption>OLS Regression Results</caption>\n",
       "<tr>\n",
       "  <th>Dep. Variable:</th>         <td>salary</td>      <th>  R-squared:         </th> <td>   0.929</td>\n",
       "</tr>\n",
       "<tr>\n",
       "  <th>Model:</th>                   <td>OLS</td>       <th>  Adj. R-squared:    </th> <td>   0.920</td>\n",
       "</tr>\n",
       "<tr>\n",
       "  <th>Method:</th>             <td>Least Squares</td>  <th>  F-statistic:       </th> <td>   104.3</td>\n",
       "</tr>\n",
       "<tr>\n",
       "  <th>Date:</th>             <td>Sun, 17 Jul 2022</td> <th>  Prob (F-statistic):</th> <td>7.25e-06</td>\n",
       "</tr>\n",
       "<tr>\n",
       "  <th>Time:</th>                 <td>06:21:15</td>     <th>  Log-Likelihood:    </th> <td> -100.81</td>\n",
       "</tr>\n",
       "<tr>\n",
       "  <th>No. Observations:</th>      <td>    10</td>      <th>  AIC:               </th> <td>   205.6</td>\n",
       "</tr>\n",
       "<tr>\n",
       "  <th>Df Residuals:</th>          <td>     8</td>      <th>  BIC:               </th> <td>   206.2</td>\n",
       "</tr>\n",
       "<tr>\n",
       "  <th>Df Model:</th>              <td>     1</td>      <th>                     </th>     <td> </td>   \n",
       "</tr>\n",
       "<tr>\n",
       "  <th>Covariance Type:</th>      <td>nonrobust</td>    <th>                     </th>     <td> </td>   \n",
       "</tr>\n",
       "</table>\n",
       "<table class=\"simpletable\">\n",
       "<tr>\n",
       "    <td></td>       <th>coef</th>     <th>std err</th>      <th>t</th>      <th>P>|t|</th>  <th>[0.025</th>    <th>0.975]</th>  \n",
       "</tr>\n",
       "<tr>\n",
       "  <th>const</th> <td> 2.948e+04</td> <td> 4737.810</td> <td>    6.223</td> <td> 0.000</td> <td> 1.86e+04</td> <td> 4.04e+04</td>\n",
       "</tr>\n",
       "<tr>\n",
       "  <th>years</th> <td> 3010.9105</td> <td>  294.792</td> <td>   10.214</td> <td> 0.000</td> <td> 2331.119</td> <td> 3690.702</td>\n",
       "</tr>\n",
       "</table>\n",
       "<table class=\"simpletable\">\n",
       "<tr>\n",
       "  <th>Omnibus:</th>       <td> 8.719</td> <th>  Durbin-Watson:     </th> <td>   1.741</td>\n",
       "</tr>\n",
       "<tr>\n",
       "  <th>Prob(Omnibus):</th> <td> 0.013</td> <th>  Jarque-Bera (JB):  </th> <td>   3.409</td>\n",
       "</tr>\n",
       "<tr>\n",
       "  <th>Skew:</th>          <td>-1.159</td> <th>  Prob(JB):          </th> <td>   0.182</td>\n",
       "</tr>\n",
       "<tr>\n",
       "  <th>Kurtosis:</th>      <td> 4.675</td> <th>  Cond. No.          </th> <td>    37.4</td>\n",
       "</tr>\n",
       "</table><br/><br/>Notes:<br/>[1] Standard Errors assume that the covariance matrix of the errors is correctly specified."
      ],
      "text/plain": [
       "<class 'statsmodels.iolib.summary.Summary'>\n",
       "\"\"\"\n",
       "                            OLS Regression Results                            \n",
       "==============================================================================\n",
       "Dep. Variable:                 salary   R-squared:                       0.929\n",
       "Model:                            OLS   Adj. R-squared:                  0.920\n",
       "Method:                 Least Squares   F-statistic:                     104.3\n",
       "Date:                Sun, 17 Jul 2022   Prob (F-statistic):           7.25e-06\n",
       "Time:                        06:21:15   Log-Likelihood:                -100.81\n",
       "No. Observations:                  10   AIC:                             205.6\n",
       "Df Residuals:                       8   BIC:                             206.2\n",
       "Df Model:                           1                                         \n",
       "Covariance Type:            nonrobust                                         \n",
       "==============================================================================\n",
       "                 coef    std err          t      P>|t|      [0.025      0.975]\n",
       "------------------------------------------------------------------------------\n",
       "const       2.948e+04   4737.810      6.223      0.000    1.86e+04    4.04e+04\n",
       "years       3010.9105    294.792     10.214      0.000    2331.119    3690.702\n",
       "==============================================================================\n",
       "Omnibus:                        8.719   Durbin-Watson:                   1.741\n",
       "Prob(Omnibus):                  0.013   Jarque-Bera (JB):                3.409\n",
       "Skew:                          -1.159   Prob(JB):                        0.182\n",
       "Kurtosis:                       4.675   Cond. No.                         37.4\n",
       "==============================================================================\n",
       "\n",
       "Notes:\n",
       "[1] Standard Errors assume that the covariance matrix of the errors is correctly specified.\n",
       "\"\"\""
      ]
     },
     "execution_count": 9,
     "metadata": {},
     "output_type": "execute_result"
    }
   ],
   "source": [
    "model.summary()"
   ]
  },
  {
   "cell_type": "markdown",
   "id": "f1b65a2a",
   "metadata": {},
   "source": [
    "Pr(>|t|) Value\n",
    "\n",
    "Select the exact Pr(>|t|) value that shows how strongly Salary is dependent on Years of Experience.\n"
   ]
  },
  {
   "cell_type": "markdown",
   "id": "de553311",
   "metadata": {},
   "source": [
    "7.25e-06"
   ]
  },
  {
   "cell_type": "markdown",
   "id": "ddc989d5",
   "metadata": {},
   "source": [
    "Significant Association\n",
    "\n",
    "Based on the Pr(>|t|) value found, which of the following conclusions best describes the relationship between Salary and Years of Experience.\n"
   ]
  },
  {
   "cell_type": "markdown",
   "id": "d2d47adf",
   "metadata": {},
   "source": [
    "Salary is dependent on Years of Experience"
   ]
  },
  {
   "cell_type": "markdown",
   "id": "4459d160",
   "metadata": {},
   "source": [
    "Given new values for Years of Experience called new_years:\n",
    "\n",
    "What is the predicted new Salary for 30 Years of Experience?"
   ]
  },
  {
   "cell_type": "code",
   "execution_count": 10,
   "id": "00120dc6",
   "metadata": {},
   "outputs": [],
   "source": [
    "new_years = pd.DataFrame({\"years\" : [4, 5, 7, 9, 11, 12, 13, 29, 30, 31]})"
   ]
  },
  {
   "cell_type": "code",
   "execution_count": 11,
   "id": "8fde3306",
   "metadata": {},
   "outputs": [
    {
     "data": {
      "text/html": [
       "<div>\n",
       "<style scoped>\n",
       "    .dataframe tbody tr th:only-of-type {\n",
       "        vertical-align: middle;\n",
       "    }\n",
       "\n",
       "    .dataframe tbody tr th {\n",
       "        vertical-align: top;\n",
       "    }\n",
       "\n",
       "    .dataframe thead th {\n",
       "        text-align: right;\n",
       "    }\n",
       "</style>\n",
       "<table border=\"1\" class=\"dataframe\">\n",
       "  <thead>\n",
       "    <tr style=\"text-align: right;\">\n",
       "      <th></th>\n",
       "      <th>years</th>\n",
       "    </tr>\n",
       "  </thead>\n",
       "  <tbody>\n",
       "    <tr>\n",
       "      <th>0</th>\n",
       "      <td>4</td>\n",
       "    </tr>\n",
       "    <tr>\n",
       "      <th>1</th>\n",
       "      <td>5</td>\n",
       "    </tr>\n",
       "    <tr>\n",
       "      <th>2</th>\n",
       "      <td>7</td>\n",
       "    </tr>\n",
       "    <tr>\n",
       "      <th>3</th>\n",
       "      <td>9</td>\n",
       "    </tr>\n",
       "    <tr>\n",
       "      <th>4</th>\n",
       "      <td>11</td>\n",
       "    </tr>\n",
       "    <tr>\n",
       "      <th>5</th>\n",
       "      <td>12</td>\n",
       "    </tr>\n",
       "    <tr>\n",
       "      <th>6</th>\n",
       "      <td>13</td>\n",
       "    </tr>\n",
       "    <tr>\n",
       "      <th>7</th>\n",
       "      <td>29</td>\n",
       "    </tr>\n",
       "    <tr>\n",
       "      <th>8</th>\n",
       "      <td>30</td>\n",
       "    </tr>\n",
       "    <tr>\n",
       "      <th>9</th>\n",
       "      <td>31</td>\n",
       "    </tr>\n",
       "  </tbody>\n",
       "</table>\n",
       "</div>"
      ],
      "text/plain": [
       "   years\n",
       "0      4\n",
       "1      5\n",
       "2      7\n",
       "3      9\n",
       "4     11\n",
       "5     12\n",
       "6     13\n",
       "7     29\n",
       "8     30\n",
       "9     31"
      ]
     },
     "execution_count": 11,
     "metadata": {},
     "output_type": "execute_result"
    }
   ],
   "source": [
    "new_years"
   ]
  },
  {
   "cell_type": "code",
   "execution_count": 12,
   "id": "c4212df8",
   "metadata": {},
   "outputs": [],
   "source": [
    "lr = LinearRegression()"
   ]
  },
  {
   "cell_type": "code",
   "execution_count": 13,
   "id": "26fe31d4",
   "metadata": {},
   "outputs": [],
   "source": [
    "y = df[['salary']]\n",
    "X = df[['years']]"
   ]
  },
  {
   "cell_type": "code",
   "execution_count": 14,
   "id": "5deae3d2",
   "metadata": {},
   "outputs": [
    {
     "data": {
      "text/plain": [
       "LinearRegression()"
      ]
     },
     "execution_count": 14,
     "metadata": {},
     "output_type": "execute_result"
    }
   ],
   "source": [
    "lr.fit(X,y)"
   ]
  },
  {
   "cell_type": "code",
   "execution_count": 15,
   "id": "864ead83",
   "metadata": {},
   "outputs": [
    {
     "data": {
      "text/plain": [
       "array([[ 41528.3396462 ],\n",
       "       [ 44539.25015609],\n",
       "       [ 50561.07117586],\n",
       "       [ 56582.89219563],\n",
       "       [ 62604.7132154 ],\n",
       "       [ 65615.62372529],\n",
       "       [ 68626.53423517],\n",
       "       [116801.10239334],\n",
       "       [119812.01290323],\n",
       "       [122822.92341311]])"
      ]
     },
     "execution_count": 15,
     "metadata": {},
     "output_type": "execute_result"
    }
   ],
   "source": [
    "lr.predict(new_years)"
   ]
  },
  {
   "cell_type": "markdown",
   "id": "f675687e",
   "metadata": {},
   "source": [
    "Answer: 119812.01"
   ]
  },
  {
   "cell_type": "code",
   "execution_count": null,
   "id": "8a915d9e",
   "metadata": {},
   "outputs": [],
   "source": []
  }
 ],
 "metadata": {
  "kernelspec": {
   "display_name": "Python 3 (ipykernel)",
   "language": "python",
   "name": "python3"
  },
  "language_info": {
   "codemirror_mode": {
    "name": "ipython",
    "version": 3
   },
   "file_extension": ".py",
   "mimetype": "text/x-python",
   "name": "python",
   "nbconvert_exporter": "python",
   "pygments_lexer": "ipython3",
   "version": "3.8.8"
  }
 },
 "nbformat": 4,
 "nbformat_minor": 5
}
