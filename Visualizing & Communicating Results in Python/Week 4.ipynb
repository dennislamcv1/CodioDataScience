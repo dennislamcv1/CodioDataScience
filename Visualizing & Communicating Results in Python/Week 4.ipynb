{
 "cells": [
  {
   "cell_type": "markdown",
   "id": "765374bb",
   "metadata": {},
   "source": [
    "Which of the following is a button in the dropdown option to change the cell format from code to markdown?"
   ]
  },
  {
   "cell_type": "markdown",
   "id": "ae3c2b77",
   "metadata": {},
   "source": [
    "Raw NBconvert"
   ]
  },
  {
   "cell_type": "markdown",
   "id": "291eac60",
   "metadata": {},
   "source": [
    "Which of the following steps would you take to publish as a slide show."
   ]
  },
  {
   "cell_type": "markdown",
   "id": "c14eb6f1",
   "metadata": {},
   "source": [
    "Click on View\n",
    "\n",
    "Click On Cell Toolbar\n",
    "\n",
    "Click on Slideshow"
   ]
  },
  {
   "cell_type": "code",
   "execution_count": null,
   "id": "f66537e4",
   "metadata": {},
   "outputs": [],
   "source": []
  }
 ],
 "metadata": {
  "kernelspec": {
   "display_name": "Python 3 (ipykernel)",
   "language": "python",
   "name": "python3"
  },
  "language_info": {
   "codemirror_mode": {
    "name": "ipython",
    "version": 3
   },
   "file_extension": ".py",
   "mimetype": "text/x-python",
   "name": "python",
   "nbconvert_exporter": "python",
   "pygments_lexer": "ipython3",
   "version": "3.8.8"
  }
 },
 "nbformat": 4,
 "nbformat_minor": 5
}
