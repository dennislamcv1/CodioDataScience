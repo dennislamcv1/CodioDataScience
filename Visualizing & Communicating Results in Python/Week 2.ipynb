{
 "cells": [
  {
   "cell_type": "code",
   "execution_count": 1,
   "id": "33ac0b24",
   "metadata": {},
   "outputs": [],
   "source": [
    "import matplotlib.pyplot as plt\n",
    "import statistics as sta\n",
    "import pandas as pd"
   ]
  },
  {
   "cell_type": "code",
   "execution_count": 2,
   "id": "700529c4",
   "metadata": {},
   "outputs": [],
   "source": [
    "x=[17, 72, 45, 86, 96, 24,27, 32, 38, 94, 70 ]\n",
    "y=[78, 35, 28, 75, 2, 22, 25,  41, 73, 51, 58]"
   ]
  },
  {
   "cell_type": "code",
   "execution_count": 3,
   "id": "ec806465",
   "metadata": {},
   "outputs": [
    {
     "data": {
      "image/png": "[encoded data removed]",
      "text/plain": [
       "<Figure size 432x288 with 1 Axes>"
      ]
     },
     "metadata": {
      "needs_background": "light"
     },
     "output_type": "display_data"
    }
   ],
   "source": [
    "plt.scatter(x=x, y=y)\n",
    "plt.title(\"Random numbers\")\n",
    "plt.show()"
   ]
  },
  {
   "cell_type": "markdown",
   "id": "be31119d",
   "metadata": {},
   "source": [
    "Provided two categorical data, could you use scatter plot to properly demonstrate relationship?"
   ]
  },
  {
   "cell_type": "markdown",
   "id": "a1a9e25b",
   "metadata": {},
   "source": [
    "No"
   ]
  },
  {
   "cell_type": "code",
   "execution_count": 4,
   "id": "05c87c94",
   "metadata": {},
   "outputs": [],
   "source": [
    "data=[17, 72, 45, 86, 96, 24,27, 32, 38, 94, 70 ]"
   ]
  },
  {
   "cell_type": "code",
   "execution_count": 5,
   "id": "80a9ca7a",
   "metadata": {},
   "outputs": [
    {
     "data": {
      "image/png": "[encoded data removed]",
      "text/plain": [
       "<Figure size 432x288 with 1 Axes>"
      ]
     },
     "metadata": {
      "needs_background": "light"
     },
     "output_type": "display_data"
    }
   ],
   "source": [
    "plt.boxplot(data)\n",
    "plt.title(\"Boxplot\")\n",
    "plt.xlabel(\"x\")\n",
    "plt.ylabel(\"y\")\n",
    "plt.show()"
   ]
  },
  {
   "cell_type": "code",
   "execution_count": null,
   "id": "7c1ea2d8",
   "metadata": {},
   "outputs": [],
   "source": []
  }
 ],
 "metadata": {
  "kernelspec": {
   "display_name": "Python 3 (ipykernel)",
   "language": "python",
   "name": "python3"
  },
  "language_info": {
   "codemirror_mode": {
    "name": "ipython",
    "version": 3
   },
   "file_extension": ".py",
   "mimetype": "text/x-python",
   "name": "python",
   "nbconvert_exporter": "python",
   "pygments_lexer": "ipython3",
   "version": "3.8.8"
  }
 },
 "nbformat": 4,
 "nbformat_minor": 5
}
